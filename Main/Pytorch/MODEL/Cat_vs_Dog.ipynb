{
  "nbformat": 4,
  "nbformat_minor": 0,
  "metadata": {
    "colab": {
      "name": "Cat-vs-Dog.ipynb",
      "provenance": [],
      "collapsed_sections": []
    },
    "kernelspec": {
      "name": "python3",
      "display_name": "Python 3"
    },
    "language_info": {
      "name": "python"
    }
  },
  "cells": [
    {
      "cell_type": "code",
      "metadata": {
        "id": "d1KQ2Ju1u8dw"
      },
      "source": [
        "import torch\n",
        "import torch.nn as nn\n",
        "from PIL import Image\n",
        "import matplotlib.pyplot as plt\n",
        "import numpy\n",
        "from torch.utils.data import Dataset,DataLoader\n",
        "import os\n",
        "import zipfile as zip\n",
        "import glob\n",
        "from sklearn.model_selection import train_test_split\n",
        "import torchvision.transforms as transforms\n",
        "from torchvision.datasets import ImageFolder\n",
        "import zipfile\n",
        "import random\n",
        "import shutil\n",
        "from shutil import copyfile\n",
        "import torchvision"
      ],
      "execution_count": 27,
      "outputs": []
    },
    {
      "cell_type": "code",
      "metadata": {
        "colab": {
          "base_uri": "https://localhost:8080/"
        },
        "id": "FMrJYzjPvdEX",
        "outputId": "317090f0-1965-4604-8b41-25c5d4bc83e7"
      },
      "source": [
        "!wget --no-check-certificate \\\n",
        "    \"https://download.microsoft.com/download/3/E/1/3E1C3F21-ECDB-4869-8368-6DEBA77B919F/kagglecatsanddogs_3367a.zip\" \\\n",
        "    -O \"/tmp/cats-and-dogs.zip\"\n",
        "\n",
        "local_zip = '/tmp/cats-and-dogs.zip'\n",
        "zip_ref   = zipfile.ZipFile(local_zip, 'r')\n",
        "zip_ref.extractall('/tmp')\n",
        "zip_ref.close()"
      ],
      "execution_count": 5,
      "outputs": [
        {
          "output_type": "stream",
          "name": "stdout",
          "text": [
            "--2021-09-14 10:00:02--  https://download.microsoft.com/download/3/E/1/3E1C3F21-ECDB-4869-8368-6DEBA77B919F/kagglecatsanddogs_3367a.zip\n",
            "Resolving download.microsoft.com (download.microsoft.com)... 23.54.48.114, 2600:1409:8800:188::e59, 2600:1409:8800:180::e59\n",
            "Connecting to download.microsoft.com (download.microsoft.com)|23.54.48.114|:443... connected.\n",
            "HTTP request sent, awaiting response... 200 OK\n",
            "Length: 824894548 (787M) [application/octet-stream]\n",
            "Saving to: ‘/tmp/cats-and-dogs.zip’\n",
            "\n",
            "/tmp/cats-and-dogs. 100%[===================>] 786.68M   162MB/s    in 4.8s    \n",
            "\n",
            "2021-09-14 10:00:07 (164 MB/s) - ‘/tmp/cats-and-dogs.zip’ saved [824894548/824894548]\n",
            "\n"
          ]
        }
      ]
    },
    {
      "cell_type": "code",
      "metadata": {
        "colab": {
          "base_uri": "https://localhost:8080/"
        },
        "id": "CkWKrB18vxUA",
        "outputId": "dbccc181-81e5-478c-fa27-1a13ce2a7941"
      },
      "source": [
        "\n",
        "print(len(os.listdir('/tmp/PetImages/Cat/')))\n",
        "print(len(os.listdir('/tmp/PetImages/Dog/')))"
      ],
      "execution_count": 6,
      "outputs": [
        {
          "output_type": "stream",
          "name": "stdout",
          "text": [
            "12501\n",
            "12501\n"
          ]
        }
      ]
    },
    {
      "cell_type": "code",
      "metadata": {
        "id": "utWFio1LwDvR"
      },
      "source": [
        "try:\n",
        "    os.mkdir('/tmp/cats-v-dogs')\n",
        "    os.mkdir('/tmp/cats-v-dogs/training')\n",
        "    os.mkdir('/tmp/cats-v-dogs/testing')\n",
        "    os.mkdir('/tmp/cats-v-dogs/training/cats')\n",
        "    os.mkdir('/tmp/cats-v-dogs/training/dogs')\n",
        "    os.mkdir('/tmp/cats-v-dogs/testing/cats')\n",
        "    os.mkdir('/tmp/cats-v-dogs/testing/dogs')\n",
        "except OSError:\n",
        "    pass"
      ],
      "execution_count": 7,
      "outputs": []
    },
    {
      "cell_type": "code",
      "metadata": {
        "colab": {
          "base_uri": "https://localhost:8080/"
        },
        "id": "w4AWFCaPwEmo",
        "outputId": "f485cb37-133c-4aad-97d3-7872f27ccdc2"
      },
      "source": [
        "\n",
        "def split_data(SOURCE, TRAINING, TESTING, SPLIT_SIZE):\n",
        "    files = []\n",
        "    for filename in os.listdir(SOURCE):\n",
        "        file = SOURCE + filename\n",
        "        if os.path.getsize(file) > 0:\n",
        "            files.append(filename)\n",
        "        else:\n",
        "            print(filename + \" is zero length, so ignoring.\")\n",
        "\n",
        "    training_length = int(len(files) * SPLIT_SIZE)\n",
        "    testing_length = int(len(files) - training_length)\n",
        "    shuffled_set = random.sample(files, len(files))\n",
        "    training_set = shuffled_set[0:training_length]\n",
        "    testing_set = shuffled_set[-testing_length:]\n",
        "\n",
        "    for filename in training_set:\n",
        "        this_file = SOURCE + filename\n",
        "        destination = TRAINING + filename\n",
        "        copyfile(this_file, destination)\n",
        "\n",
        "    for filename in testing_set:\n",
        "        this_file = SOURCE + filename\n",
        "        destination = TESTING + filename\n",
        "        copyfile(this_file, destination)\n",
        "\n",
        "\n",
        "CAT_SOURCE_DIR = \"/tmp/PetImages/Cat/\"\n",
        "TRAINING_CATS_DIR = \"/tmp/cats-v-dogs/training/cats/\"\n",
        "TESTING_CATS_DIR = \"/tmp/cats-v-dogs/testing/cats/\"\n",
        "DOG_SOURCE_DIR = \"/tmp/PetImages/Dog/\"\n",
        "TRAINING_DOGS_DIR = \"/tmp/cats-v-dogs/training/dogs/\"\n",
        "TESTING_DOGS_DIR = \"/tmp/cats-v-dogs/testing/dogs/\"\n",
        "\n",
        "split_size = .9\n",
        "split_data(CAT_SOURCE_DIR, TRAINING_CATS_DIR, TESTING_CATS_DIR, split_size)\n",
        "split_data(DOG_SOURCE_DIR, TRAINING_DOGS_DIR, TESTING_DOGS_DIR, split_size)"
      ],
      "execution_count": 12,
      "outputs": [
        {
          "output_type": "stream",
          "name": "stdout",
          "text": [
            "666.jpg is zero length, so ignoring.\n",
            "11702.jpg is zero length, so ignoring.\n"
          ]
        }
      ]
    },
    {
      "cell_type": "code",
      "metadata": {
        "colab": {
          "base_uri": "https://localhost:8080/"
        },
        "id": "hmzf1kAKwJIR",
        "outputId": "7707fc31-62cf-4b22-f650-d8efc1d855bd"
      },
      "source": [
        "print(len(os.listdir('/tmp/cats-v-dogs/training/cats/')))\n",
        "print(len(os.listdir('/tmp/cats-v-dogs/training/dogs/')))\n",
        "print(len(os.listdir('/tmp/cats-v-dogs/testing/cats/')))\n",
        "print(len(os.listdir('/tmp/cats-v-dogs/testing/dogs/')))"
      ],
      "execution_count": 13,
      "outputs": [
        {
          "output_type": "stream",
          "name": "stdout",
          "text": [
            "11250\n",
            "11250\n",
            "1250\n",
            "1250\n"
          ]
        }
      ]
    },
    {
      "cell_type": "code",
      "metadata": {
        "id": "moP_DMjEwwZ6"
      },
      "source": [
        "TRAINING_DIR = \"/tmp/cats-v-dogs/training/\"\n",
        "VALIDATION_DIR = \"/tmp/cats-v-dogs/testing/\""
      ],
      "execution_count": 14,
      "outputs": []
    },
    {
      "cell_type": "code",
      "metadata": {
        "id": "DAmZu9tkw0vZ"
      },
      "source": [
        "\n",
        "train_transforms =  transforms.Compose([\n",
        "        transforms.Resize((224, 224)),\n",
        "        transforms.RandomHorizontalFlip(),\n",
        "        transforms.ToTensor(),\n",
        "])\n",
        "\n",
        "val_transforms = transforms.Compose([\n",
        "        transforms.Resize((224, 224)),\n",
        "        transforms.RandomHorizontalFlip(),\n",
        "        transforms.ToTensor(),\n",
        "])\n"
      ],
      "execution_count": 15,
      "outputs": []
    },
    {
      "cell_type": "code",
      "metadata": {
        "id": "Zi9_R-2pxnm7"
      },
      "source": [
        "training_data = ImageFolder(\"/tmp/cats-v-dogs/training\",transform=train_transforms)\n",
        "validation_data = ImageFolder(\"/tmp/cats-v-dogs/testing\",transform=val_transforms)"
      ],
      "execution_count": 29,
      "outputs": []
    },
    {
      "cell_type": "code",
      "metadata": {
        "colab": {
          "base_uri": "https://localhost:8080/"
        },
        "id": "eGnQ8zUox9rY",
        "outputId": "582ba1eb-73d4-4ba8-d974-c9e50b41a369"
      },
      "source": [
        "training_data.classes,validation_data.classes"
      ],
      "execution_count": 30,
      "outputs": [
        {
          "output_type": "execute_result",
          "data": {
            "text/plain": [
              "(['cats', 'dogs'], ['cats', 'dogs'])"
            ]
          },
          "metadata": {},
          "execution_count": 30
        }
      ]
    },
    {
      "cell_type": "code",
      "metadata": {
        "colab": {
          "base_uri": "https://localhost:8080/"
        },
        "id": "DrV9V_0zx_Gh",
        "outputId": "44ca3aed-2210-4e17-bed8-162b00877102"
      },
      "source": [
        "training_data.class_to_idx,validation_data.class_to_idx"
      ],
      "execution_count": 31,
      "outputs": [
        {
          "output_type": "execute_result",
          "data": {
            "text/plain": [
              "({'cats': 0, 'dogs': 1}, {'cats': 0, 'dogs': 1})"
            ]
          },
          "metadata": {},
          "execution_count": 31
        }
      ]
    },
    {
      "cell_type": "code",
      "metadata": {
        "id": "CBf-Fs7rzxiY"
      },
      "source": [
        "training_data_loader = DataLoader(training_data,batch_size=100,shuffle=True)\n",
        "validation_data_loader = DataLoader(validation_data,batch_size=100,shuffle=True)"
      ],
      "execution_count": 32,
      "outputs": []
    },
    {
      "cell_type": "code",
      "metadata": {
        "id": "V1NvVEwkyj04"
      },
      "source": [
        "inputs_batch, labels_batch = next(iter(training_data_loader))\n",
        "grid = torchvision.utils.make_grid(inputs_batch, nrow=40, pad_value=1)\n",
        "torchvision.utils.save_image(grid, 'inputs_batch_preview.png')"
      ],
      "execution_count": 33,
      "outputs": []
    },
    {
      "cell_type": "code",
      "metadata": {
        "id": "eZV7z1M00_Ln"
      },
      "source": [
        "config = [\n",
        "     # input_channels:int,no.of filters:int,filter_size:int,stride:int,padding:int\n",
        "     (3,16,3,2,0),\n",
        "     # MP - max pooling:string,filter_size:int,stride:int,padding:int\n",
        "     (\"MP\",2,2,0),\n",
        "     (16,32,3,2,0),\n",
        "     (\"MP\",2,2,0),\n",
        "     (32,64,3,2,0),\n",
        "     (\"MP\",2,2,0)\n",
        "]"
      ],
      "execution_count": 39,
      "outputs": []
    },
    {
      "cell_type": "code",
      "metadata": {
        "id": "yYtGKhd41G9m"
      },
      "source": [
        "def conv_output_size(img_size,padding,filter_size,stride,n_filters):\n",
        "   size_ = (int((img_size + (2 * padding) - filter_size) / stride)) + 1\n",
        "   return size_,size_,n_filters"
      ],
      "execution_count": 40,
      "outputs": []
    },
    {
      "cell_type": "code",
      "metadata": {
        "id": "8WMQc1n61L8q"
      },
      "source": [
        "\n",
        "def dense_layer_size(configuration,img_size):\n",
        "\n",
        "  _,output_channels = 0,0\n",
        "  layer_count = 0\n",
        "\n",
        "  for config in configuration:\n",
        "    \n",
        "    layer_count += 1\n",
        "\n",
        "    if config[0] == \"MP\":\n",
        "      img_size,_,output_channels = conv_output_size(img_size,config[3],config[1],config[2],output_channels)\n",
        "      print(\"Max Pooling Layer {} output dims :: \".format(layer_count),img_size,_,output_channels)\n",
        "\n",
        "    else: \n",
        "      img_size,_,output_channels = conv_output_size(img_size,config[4],config[2],config[3],config[1])\n",
        "      print(\"Conv Layer {} output dims :: \".format(layer_count),img_size,_,output_channels)\n",
        "  \n",
        "  return img_size,_,output_channels"
      ],
      "execution_count": 41,
      "outputs": []
    },
    {
      "cell_type": "code",
      "metadata": {
        "colab": {
          "base_uri": "https://localhost:8080/"
        },
        "id": "6QcCyHM-1PAS",
        "outputId": "81732a3e-4e02-404a-f7d0-81477c04f32e"
      },
      "source": [
        "width,heigth,channels = dense_layer_size(config,224)"
      ],
      "execution_count": 42,
      "outputs": [
        {
          "output_type": "stream",
          "name": "stdout",
          "text": [
            "Conv Layer 1 output dims ::  111 111 16\n",
            "Max Pooling Layer 2 output dims ::  55 55 16\n",
            "Conv Layer 3 output dims ::  27 27 32\n",
            "Max Pooling Layer 4 output dims ::  13 13 32\n",
            "Conv Layer 5 output dims ::  6 6 64\n",
            "Max Pooling Layer 6 output dims ::  3 3 64\n"
          ]
        }
      ]
    },
    {
      "cell_type": "code",
      "metadata": {
        "colab": {
          "base_uri": "https://localhost:8080/"
        },
        "id": "ijlvWAFM1iCA",
        "outputId": "3e6a53f5-ab12-4e1c-8f18-b5340634f9f3"
      },
      "source": [
        "width * heigth * channels"
      ],
      "execution_count": 53,
      "outputs": [
        {
          "output_type": "execute_result",
          "data": {
            "text/plain": [
              "576"
            ]
          },
          "metadata": {},
          "execution_count": 53
        }
      ]
    },
    {
      "cell_type": "code",
      "metadata": {
        "id": "3gJ_jTqtzvqt"
      },
      "source": [
        "class NeuralNetwork(nn.Module):\n",
        "\n",
        "  def __init__(self):\n",
        "    super(NeuralNetwork,self).__init__()\n",
        "\n",
        "    self.layer1 = nn.Sequential(\n",
        "        nn.Conv2d(3,16,3,2,0),\n",
        "        nn.BatchNorm2d(16),\n",
        "        nn.ReLU(),\n",
        "        nn.MaxPool2d(2,2),\n",
        "        nn.Dropout2d(p=0.25)\n",
        "    )\n",
        "\n",
        "    self.layer2 = nn.Sequential(\n",
        "        nn.Conv2d(16,32,3,2,0),\n",
        "        nn.BatchNorm2d(32),\n",
        "        nn.ReLU(),\n",
        "        nn.MaxPool2d(2,2),\n",
        "        nn.Dropout2d(p=0.25)\n",
        "    )\n",
        "\n",
        "    self.layer3 = nn.Sequential(\n",
        "        nn.Conv2d(32,64,3,2,0),\n",
        "        nn.BatchNorm2d(64),\n",
        "        nn.ReLU(),\n",
        "        nn.MaxPool2d(2,2),\n",
        "        nn.Dropout2d(p=0.25)\n",
        "    )\n",
        "\n",
        "    self.FC = nn.Sequential(\n",
        "        nn.Linear(576,512),\n",
        "        nn.ReLU(),\n",
        "        nn.Dropout(p=0.5),\n",
        "\n",
        "        nn.Linear(512,2),\n",
        "    )    \n",
        "\n",
        "  def forward(self,x):\n",
        "    x = self.layer1(x)\n",
        "    x = self.layer2(x)\n",
        "    x = self.layer3(x)\n",
        "\n",
        "    x = x.view(x.size(0),-1)\n",
        "    x = self.FC(x)\n",
        "\n",
        "    return x"
      ],
      "execution_count": 62,
      "outputs": []
    },
    {
      "cell_type": "code",
      "metadata": {
        "colab": {
          "base_uri": "https://localhost:8080/"
        },
        "id": "4sR6hpx-3PSR",
        "outputId": "b104cbc0-571f-4f49-86fb-5ca3c9b1bfff"
      },
      "source": [
        "\n",
        "net = NeuralNetwork()\n",
        "optimizer = torch.optim.Adam(net.parameters(),lr=0.001)\n",
        "criterion = nn.CrossEntropyLoss()\n",
        "\n",
        "net.train()"
      ],
      "execution_count": 63,
      "outputs": [
        {
          "output_type": "execute_result",
          "data": {
            "text/plain": [
              "NeuralNetwork(\n",
              "  (layer1): Sequential(\n",
              "    (0): Conv2d(3, 16, kernel_size=(3, 3), stride=(2, 2))\n",
              "    (1): BatchNorm2d(16, eps=1e-05, momentum=0.1, affine=True, track_running_stats=True)\n",
              "    (2): ReLU()\n",
              "    (3): MaxPool2d(kernel_size=2, stride=2, padding=0, dilation=1, ceil_mode=False)\n",
              "    (4): Dropout2d(p=0.25, inplace=False)\n",
              "  )\n",
              "  (layer2): Sequential(\n",
              "    (0): Conv2d(16, 32, kernel_size=(3, 3), stride=(2, 2))\n",
              "    (1): BatchNorm2d(32, eps=1e-05, momentum=0.1, affine=True, track_running_stats=True)\n",
              "    (2): ReLU()\n",
              "    (3): MaxPool2d(kernel_size=2, stride=2, padding=0, dilation=1, ceil_mode=False)\n",
              "    (4): Dropout2d(p=0.25, inplace=False)\n",
              "  )\n",
              "  (layer3): Sequential(\n",
              "    (0): Conv2d(32, 64, kernel_size=(3, 3), stride=(2, 2))\n",
              "    (1): BatchNorm2d(64, eps=1e-05, momentum=0.1, affine=True, track_running_stats=True)\n",
              "    (2): ReLU()\n",
              "    (3): MaxPool2d(kernel_size=2, stride=2, padding=0, dilation=1, ceil_mode=False)\n",
              "    (4): Dropout2d(p=0.25, inplace=False)\n",
              "  )\n",
              "  (FC): Sequential(\n",
              "    (0): Linear(in_features=576, out_features=512, bias=True)\n",
              "    (1): ReLU()\n",
              "    (2): Dropout(p=0.5, inplace=False)\n",
              "    (3): Linear(in_features=512, out_features=2, bias=True)\n",
              "  )\n",
              ")"
            ]
          },
          "metadata": {},
          "execution_count": 63
        }
      ]
    },
    {
      "cell_type": "code",
      "metadata": {
        "colab": {
          "base_uri": "https://localhost:8080/"
        },
        "id": "lu8w9p7q3y_f",
        "outputId": "657da809-7462-4962-f512-18af0f8e657b"
      },
      "source": [
        "epochs = 15\n",
        "\n",
        "training_acc = []\n",
        "training_loss = []\n",
        "\n",
        "val_acc = []\n",
        "val_loss = []\n",
        "\n",
        "for epoch in range(epochs):\n",
        "\n",
        "  epoch_acc = 0\n",
        "  epoch_loss = 0\n",
        "\n",
        "  for batch_id,(image,label) in enumerate(training_data_loader):\n",
        "\n",
        "    output = net(image)\n",
        "\n",
        "    loss = criterion(output,label)\n",
        "\n",
        "    optimizer.zero_grad()\n",
        "    loss.backward()\n",
        "    optimizer.step()\n",
        "\n",
        "    acc = (output.argmax(dim=1) == label).float().mean()\n",
        "    epoch_acc += acc.item() / len(training_data_loader) \n",
        "    epoch_loss += loss.item() / len(training_data_loader)\n",
        "\n",
        "  print(f\"Epoch [{epoch + 1}/{epochs}] Training Accuracy :: {epoch_acc:.4f} Training Loss :: {epoch_loss:.4f}\")\n",
        "  \n",
        "  training_acc.append(epoch_acc)\n",
        "  training_loss.append(epoch_loss)\n",
        "\n",
        "  with torch.no_grad():\n",
        "\n",
        "    epoch_val_acc = 0\n",
        "    epoch_val_loss = 0\n",
        "\n",
        "    for batch_id,(image,label) in enumerate(validation_data_loader):\n",
        "\n",
        "      output = net(image)\n",
        "      loss = criterion(output,label)\n",
        "\n",
        "      acc = (output.argmax(dim=1) == label).float().mean()\n",
        "      epoch_val_acc += acc.item() / len(validation_data_loader) \n",
        "      epoch_val_loss += loss.item() / len(validation_data_loader)\n",
        "\n",
        "    print(f\"Epoch [{epoch + 1}/{epochs}] Val Accuracy :: {epoch_val_acc:.4f} Val Loss :: {epoch_val_loss:.4f}\")\n",
        "    val_acc.append(epoch_val_acc)\n",
        "    val_loss.append(epoch_val_loss)\n"
      ],
      "execution_count": 64,
      "outputs": [
        {
          "metadata": {
            "tags": null
          },
          "name": "stdout",
          "output_type": "stream",
          "text": [
            "Epoch [1/15] Training Accuracy :: 0.6287 Training Loss :: 0.6436\n"
          ]
        },
        {
          "metadata": {
            "tags": null
          },
          "name": "stderr",
          "output_type": "stream",
          "text": [
            "/usr/local/lib/python3.7/dist-packages/PIL/TiffImagePlugin.py:770: UserWarning: Possibly corrupt EXIF data.  Expecting to read 32 bytes but only got 0. Skipping tag 270\n",
            "  \" Skipping tag %s\" % (size, len(data), tag)\n",
            "/usr/local/lib/python3.7/dist-packages/PIL/TiffImagePlugin.py:770: UserWarning: Possibly corrupt EXIF data.  Expecting to read 5 bytes but only got 0. Skipping tag 271\n",
            "  \" Skipping tag %s\" % (size, len(data), tag)\n",
            "/usr/local/lib/python3.7/dist-packages/PIL/TiffImagePlugin.py:770: UserWarning: Possibly corrupt EXIF data.  Expecting to read 8 bytes but only got 0. Skipping tag 272\n",
            "  \" Skipping tag %s\" % (size, len(data), tag)\n",
            "/usr/local/lib/python3.7/dist-packages/PIL/TiffImagePlugin.py:770: UserWarning: Possibly corrupt EXIF data.  Expecting to read 8 bytes but only got 0. Skipping tag 282\n",
            "  \" Skipping tag %s\" % (size, len(data), tag)\n",
            "/usr/local/lib/python3.7/dist-packages/PIL/TiffImagePlugin.py:770: UserWarning: Possibly corrupt EXIF data.  Expecting to read 8 bytes but only got 0. Skipping tag 283\n",
            "  \" Skipping tag %s\" % (size, len(data), tag)\n",
            "/usr/local/lib/python3.7/dist-packages/PIL/TiffImagePlugin.py:770: UserWarning: Possibly corrupt EXIF data.  Expecting to read 20 bytes but only got 0. Skipping tag 306\n",
            "  \" Skipping tag %s\" % (size, len(data), tag)\n",
            "/usr/local/lib/python3.7/dist-packages/PIL/TiffImagePlugin.py:770: UserWarning: Possibly corrupt EXIF data.  Expecting to read 48 bytes but only got 0. Skipping tag 532\n",
            "  \" Skipping tag %s\" % (size, len(data), tag)\n",
            "/usr/local/lib/python3.7/dist-packages/PIL/TiffImagePlugin.py:788: UserWarning: Corrupt EXIF data.  Expecting to read 2 bytes but only got 0. \n",
            "  warnings.warn(str(msg))\n"
          ]
        },
        {
          "output_type": "stream",
          "name": "stdout",
          "text": [
            "Epoch [1/15] Val Accuracy :: 0.6527 Val Loss :: 0.6278\n",
            "Epoch [2/15] Training Accuracy :: 0.6959 Training Loss :: 0.5760\n",
            "Epoch [2/15] Val Accuracy :: 0.7023 Val Loss :: 0.5744\n",
            "Epoch [3/15] Training Accuracy :: 0.7168 Training Loss :: 0.5485\n",
            "Epoch [3/15] Val Accuracy :: 0.7127 Val Loss :: 0.5419\n",
            "Epoch [4/15] Training Accuracy :: 0.7320 Training Loss :: 0.5283\n",
            "Epoch [4/15] Val Accuracy :: 0.7443 Val Loss :: 0.5204\n",
            "Epoch [5/15] Training Accuracy :: 0.7446 Training Loss :: 0.5166\n",
            "Epoch [5/15] Val Accuracy :: 0.7339 Val Loss :: 0.5328\n",
            "Epoch [6/15] Training Accuracy :: 0.7585 Training Loss :: 0.4987\n",
            "Epoch [6/15] Val Accuracy :: 0.7427 Val Loss :: 0.5179\n",
            "Epoch [7/15] Training Accuracy :: 0.7614 Training Loss :: 0.4896\n",
            "Epoch [7/15] Val Accuracy :: 0.7527 Val Loss :: 0.4952\n",
            "Epoch [8/15] Training Accuracy :: 0.7699 Training Loss :: 0.4767\n",
            "Epoch [8/15] Val Accuracy :: 0.7583 Val Loss :: 0.4922\n",
            "Epoch [9/15] Training Accuracy :: 0.7769 Training Loss :: 0.4696\n",
            "Epoch [9/15] Val Accuracy :: 0.7523 Val Loss :: 0.5040\n",
            "Epoch [10/15] Training Accuracy :: 0.7855 Training Loss :: 0.4582\n",
            "Epoch [10/15] Val Accuracy :: 0.7679 Val Loss :: 0.4780\n",
            "Epoch [11/15] Training Accuracy :: 0.7919 Training Loss :: 0.4483\n",
            "Epoch [11/15] Val Accuracy :: 0.7779 Val Loss :: 0.4643\n",
            "Epoch [12/15] Training Accuracy :: 0.7921 Training Loss :: 0.4454\n",
            "Epoch [12/15] Val Accuracy :: 0.7679 Val Loss :: 0.4609\n",
            "Epoch [13/15] Training Accuracy :: 0.7960 Training Loss :: 0.4343\n",
            "Epoch [13/15] Val Accuracy :: 0.7807 Val Loss :: 0.4647\n",
            "Epoch [14/15] Training Accuracy :: 0.8019 Training Loss :: 0.4319\n",
            "Epoch [14/15] Val Accuracy :: 0.7811 Val Loss :: 0.4617\n",
            "Epoch [15/15] Training Accuracy :: 0.8031 Training Loss :: 0.4296\n",
            "Epoch [15/15] Val Accuracy :: 0.7899 Val Loss :: 0.4479\n"
          ]
        }
      ]
    },
    {
      "cell_type": "code",
      "metadata": {
        "id": "_gL65dej-h4R"
      },
      "source": [
        "torch.save(net.state_dict(),\"cat_vs_dog.pt\")"
      ],
      "execution_count": 65,
      "outputs": []
    },
    {
      "cell_type": "code",
      "metadata": {
        "id": "X8iyI8uo-oAE"
      },
      "source": [
        "import matplotlib.pyplot as plt"
      ],
      "execution_count": 66,
      "outputs": []
    },
    {
      "cell_type": "code",
      "metadata": {
        "colab": {
          "base_uri": "https://localhost:8080/",
          "height": 301
        },
        "id": "Mwwsr3ngjLtT",
        "outputId": "a2426568-e788-4f9b-8af9-369100b1ad81"
      },
      "source": [
        "epochs_ = list(range(1,16))\n",
        "\n",
        "plt.plot(epochs_,training_acc,'r',\"training accuracy\")\n",
        "plt.plot(epochs_,val_acc,\"b\",\"validation accuracy\")"
      ],
      "execution_count": 67,
      "outputs": [
        {
          "output_type": "execute_result",
          "data": {
            "text/plain": [
              "[<matplotlib.lines.Line2D at 0x7f8e39971690>,\n",
              " <matplotlib.lines.Line2D at 0x7f8e39971550>]"
            ]
          },
          "metadata": {},
          "execution_count": 67
        },
        {
          "output_type": "display_data",
          "data": {
            "image/png": "[encoded data removed]",
            "text/plain": [
              "<Figure size 432x288 with 1 Axes>"
            ]
          },
          "metadata": {
            "needs_background": "light"
          }
        }
      ]
    },
    {
      "cell_type": "code",
      "metadata": {
        "colab": {
          "base_uri": "https://localhost:8080/",
          "height": 301
        },
        "id": "xiRvY08LjlQ1",
        "outputId": "459a5dec-25db-4c54-cfed-304197e06c07"
      },
      "source": [
        "epochs_ = list(range(1,16))\n",
        "\n",
        "plt.plot(epochs_,training_loss,'r',\"training loss\")\n",
        "plt.plot(epochs_,val_loss,\"b\",\"validation loss\")"
      ],
      "execution_count": 68,
      "outputs": [
        {
          "output_type": "execute_result",
          "data": {
            "text/plain": [
              "[<matplotlib.lines.Line2D at 0x7f8e399222d0>,\n",
              " <matplotlib.lines.Line2D at 0x7f8e39922610>]"
            ]
          },
          "metadata": {},
          "execution_count": 68
        },
        {
          "output_type": "display_data",
          "data": {
            "image/png": "[encoded data removed]",
            "text/plain": [
              "<Figure size 432x288 with 1 Axes>"
            ]
          },
          "metadata": {
            "needs_background": "light"
          }
        }
      ]
    },
    {
      "cell_type": "code",
      "metadata": {
        "id": "NEGsCGMjjykP"
      },
      "source": [
        "data_transformation = transforms.Compose([\n",
        "              transforms.Resize((224,224)),\n",
        "              transforms.ToTensor()\n",
        "])"
      ],
      "execution_count": 70,
      "outputs": []
    },
    {
      "cell_type": "code",
      "metadata": {
        "colab": {
          "base_uri": "https://localhost:8080/"
        },
        "id": "fENesElemgqA",
        "outputId": "1b529a39-8ccb-4496-89a9-f9325f35014a"
      },
      "source": [
        "net.eval()"
      ],
      "execution_count": 79,
      "outputs": [
        {
          "output_type": "execute_result",
          "data": {
            "text/plain": [
              "NeuralNetwork(\n",
              "  (layer1): Sequential(\n",
              "    (0): Conv2d(3, 16, kernel_size=(3, 3), stride=(2, 2))\n",
              "    (1): BatchNorm2d(16, eps=1e-05, momentum=0.1, affine=True, track_running_stats=True)\n",
              "    (2): ReLU()\n",
              "    (3): MaxPool2d(kernel_size=2, stride=2, padding=0, dilation=1, ceil_mode=False)\n",
              "    (4): Dropout2d(p=0.25, inplace=False)\n",
              "  )\n",
              "  (layer2): Sequential(\n",
              "    (0): Conv2d(16, 32, kernel_size=(3, 3), stride=(2, 2))\n",
              "    (1): BatchNorm2d(32, eps=1e-05, momentum=0.1, affine=True, track_running_stats=True)\n",
              "    (2): ReLU()\n",
              "    (3): MaxPool2d(kernel_size=2, stride=2, padding=0, dilation=1, ceil_mode=False)\n",
              "    (4): Dropout2d(p=0.25, inplace=False)\n",
              "  )\n",
              "  (layer3): Sequential(\n",
              "    (0): Conv2d(32, 64, kernel_size=(3, 3), stride=(2, 2))\n",
              "    (1): BatchNorm2d(64, eps=1e-05, momentum=0.1, affine=True, track_running_stats=True)\n",
              "    (2): ReLU()\n",
              "    (3): MaxPool2d(kernel_size=2, stride=2, padding=0, dilation=1, ceil_mode=False)\n",
              "    (4): Dropout2d(p=0.25, inplace=False)\n",
              "  )\n",
              "  (FC): Sequential(\n",
              "    (0): Linear(in_features=576, out_features=512, bias=True)\n",
              "    (1): ReLU()\n",
              "    (2): Dropout(p=0.5, inplace=False)\n",
              "    (3): Linear(in_features=512, out_features=2, bias=True)\n",
              "  )\n",
              ")"
            ]
          },
          "metadata": {},
          "execution_count": 79
        }
      ]
    },
    {
      "cell_type": "code",
      "metadata": {
        "colab": {
          "base_uri": "https://localhost:8080/"
        },
        "id": "PfJWNDowkGiK",
        "outputId": "bdaad0e0-a1f7-40a2-c935-4291edd1ddeb"
      },
      "source": [
        "image_path = \"/content/Dog_02.jpg\" \n",
        "\n",
        "image = Image.open(image_path)\n",
        "image = data_transformation(image)\n",
        "\n",
        "\n",
        "predictions = net(image[None,...])\n",
        "print(predictions.argmax(dim=1))"
      ],
      "execution_count": 81,
      "outputs": [
        {
          "output_type": "stream",
          "name": "stdout",
          "text": [
            "tensor([1])\n"
          ]
        }
      ]
    }
  ]
}