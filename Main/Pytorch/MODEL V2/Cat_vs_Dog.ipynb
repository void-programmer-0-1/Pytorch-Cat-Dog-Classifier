{
  "nbformat": 4,
  "nbformat_minor": 0,
  "metadata": {
    "colab": {
      "name": "Cat_vs_Dog.ipynb",
      "provenance": [],
      "collapsed_sections": []
    },
    "kernelspec": {
      "name": "python3",
      "display_name": "Python 3"
    },
    "language_info": {
      "name": "python"
    }
  },
  "cells": [
    {
      "cell_type": "code",
      "metadata": {
        "id": "d1KQ2Ju1u8dw"
      },
      "source": [
        "import torch\n",
        "import torch.nn as nn\n",
        "from PIL import Image\n",
        "import matplotlib.pyplot as plt\n",
        "import numpy\n",
        "from torch.utils.data import Dataset,DataLoader\n",
        "import os\n",
        "import zipfile as zip\n",
        "import glob\n",
        "from sklearn.model_selection import train_test_split\n",
        "import torchvision.transforms as transforms\n",
        "from torchvision.datasets import ImageFolder\n",
        "import zipfile\n",
        "import random\n",
        "import shutil\n",
        "from shutil import copyfile\n",
        "import torchvision"
      ],
      "execution_count": 1,
      "outputs": []
    },
    {
      "cell_type": "code",
      "metadata": {
        "colab": {
          "base_uri": "https://localhost:8080/"
        },
        "id": "FMrJYzjPvdEX",
        "outputId": "3a303e1d-8968-46c3-d55a-d601d7238fa9"
      },
      "source": [
        "!wget --no-check-certificate \\\n",
        "    \"https://download.microsoft.com/download/3/E/1/3E1C3F21-ECDB-4869-8368-6DEBA77B919F/kagglecatsanddogs_3367a.zip\" \\\n",
        "    -O \"/tmp/cats-and-dogs.zip\"\n",
        "\n",
        "local_zip = '/tmp/cats-and-dogs.zip'\n",
        "zip_ref   = zipfile.ZipFile(local_zip, 'r')\n",
        "zip_ref.extractall('/tmp')\n",
        "zip_ref.close()"
      ],
      "execution_count": 2,
      "outputs": [
        {
          "output_type": "stream",
          "name": "stdout",
          "text": [
            "--2022-04-20 07:53:56--  https://download.microsoft.com/download/3/E/1/3E1C3F21-ECDB-4869-8368-6DEBA77B919F/kagglecatsanddogs_3367a.zip\n",
            "Resolving download.microsoft.com (download.microsoft.com)... 23.220.188.106, 2600:1402:6800:2a7::e59, 2600:1402:6800:283::e59\n",
            "Connecting to download.microsoft.com (download.microsoft.com)|23.220.188.106|:443... connected.\n",
            "HTTP request sent, awaiting response... 200 OK\n",
            "Length: 824894548 (787M) [application/octet-stream]\n",
            "Saving to: ‘/tmp/cats-and-dogs.zip’\n",
            "\n",
            "/tmp/cats-and-dogs. 100%[===================>] 786.68M   219MB/s    in 3.6s    \n",
            "\n",
            "2022-04-20 07:54:00 (218 MB/s) - ‘/tmp/cats-and-dogs.zip’ saved [824894548/824894548]\n",
            "\n"
          ]
        }
      ]
    },
    {
      "cell_type": "code",
      "metadata": {
        "colab": {
          "base_uri": "https://localhost:8080/"
        },
        "id": "CkWKrB18vxUA",
        "outputId": "b9088346-1351-4468-fb03-498da6e6ebe8"
      },
      "source": [
        "\n",
        "print(len(os.listdir('/tmp/PetImages/Cat/')))\n",
        "print(len(os.listdir('/tmp/PetImages/Dog/')))"
      ],
      "execution_count": 3,
      "outputs": [
        {
          "output_type": "stream",
          "name": "stdout",
          "text": [
            "12501\n",
            "12501\n"
          ]
        }
      ]
    },
    {
      "cell_type": "code",
      "metadata": {
        "id": "utWFio1LwDvR"
      },
      "source": [
        "try:\n",
        "    os.mkdir('/tmp/cats-v-dogs')\n",
        "    os.mkdir('/tmp/cats-v-dogs/training')\n",
        "    os.mkdir('/tmp/cats-v-dogs/testing')\n",
        "    os.mkdir('/tmp/cats-v-dogs/training/cats')\n",
        "    os.mkdir('/tmp/cats-v-dogs/training/dogs')\n",
        "    os.mkdir('/tmp/cats-v-dogs/testing/cats')\n",
        "    os.mkdir('/tmp/cats-v-dogs/testing/dogs')\n",
        "except OSError:\n",
        "    pass"
      ],
      "execution_count": 4,
      "outputs": []
    },
    {
      "cell_type": "code",
      "metadata": {
        "colab": {
          "base_uri": "https://localhost:8080/"
        },
        "id": "w4AWFCaPwEmo",
        "outputId": "04852f13-a4a3-4acc-e5b1-c779cd6b3c26"
      },
      "source": [
        "\n",
        "def split_data(SOURCE, TRAINING, TESTING, SPLIT_SIZE):\n",
        "    files = []\n",
        "    for filename in os.listdir(SOURCE):\n",
        "        file = SOURCE + filename\n",
        "        if os.path.getsize(file) > 0:\n",
        "            files.append(filename)\n",
        "        else:\n",
        "            print(filename + \" is zero length, so ignoring.\")\n",
        "\n",
        "    training_length = int(len(files) * SPLIT_SIZE)\n",
        "    testing_length = int(len(files) - training_length)\n",
        "    shuffled_set = random.sample(files, len(files))\n",
        "    training_set = shuffled_set[0:training_length]\n",
        "    testing_set = shuffled_set[-testing_length:]\n",
        "\n",
        "    for filename in training_set:\n",
        "        this_file = SOURCE + filename\n",
        "        destination = TRAINING + filename\n",
        "        copyfile(this_file, destination)\n",
        "\n",
        "    for filename in testing_set:\n",
        "        this_file = SOURCE + filename\n",
        "        destination = TESTING + filename\n",
        "        copyfile(this_file, destination)\n",
        "\n",
        "\n",
        "CAT_SOURCE_DIR = \"/tmp/PetImages/Cat/\"\n",
        "TRAINING_CATS_DIR = \"/tmp/cats-v-dogs/training/cats/\"\n",
        "TESTING_CATS_DIR = \"/tmp/cats-v-dogs/testing/cats/\"\n",
        "DOG_SOURCE_DIR = \"/tmp/PetImages/Dog/\"\n",
        "TRAINING_DOGS_DIR = \"/tmp/cats-v-dogs/training/dogs/\"\n",
        "TESTING_DOGS_DIR = \"/tmp/cats-v-dogs/testing/dogs/\"\n",
        "\n",
        "split_size = .9\n",
        "split_data(CAT_SOURCE_DIR, TRAINING_CATS_DIR, TESTING_CATS_DIR, split_size)\n",
        "split_data(DOG_SOURCE_DIR, TRAINING_DOGS_DIR, TESTING_DOGS_DIR, split_size)"
      ],
      "execution_count": 5,
      "outputs": [
        {
          "output_type": "stream",
          "name": "stdout",
          "text": [
            "666.jpg is zero length, so ignoring.\n",
            "11702.jpg is zero length, so ignoring.\n"
          ]
        }
      ]
    },
    {
      "cell_type": "code",
      "metadata": {
        "colab": {
          "base_uri": "https://localhost:8080/"
        },
        "id": "hmzf1kAKwJIR",
        "outputId": "2bf8ccd9-29d9-4947-924f-e6b5dca9c35e"
      },
      "source": [
        "print(len(os.listdir('/tmp/cats-v-dogs/training/cats/')))\n",
        "print(len(os.listdir('/tmp/cats-v-dogs/training/dogs/')))\n",
        "print(len(os.listdir('/tmp/cats-v-dogs/testing/cats/')))\n",
        "print(len(os.listdir('/tmp/cats-v-dogs/testing/dogs/')))"
      ],
      "execution_count": 6,
      "outputs": [
        {
          "output_type": "stream",
          "name": "stdout",
          "text": [
            "11250\n",
            "11250\n",
            "1250\n",
            "1250\n"
          ]
        }
      ]
    },
    {
      "cell_type": "code",
      "metadata": {
        "id": "moP_DMjEwwZ6"
      },
      "source": [
        "TRAINING_DIR = \"/tmp/cats-v-dogs/training/\"\n",
        "VALIDATION_DIR = \"/tmp/cats-v-dogs/testing/\""
      ],
      "execution_count": 7,
      "outputs": []
    },
    {
      "cell_type": "code",
      "metadata": {
        "id": "DAmZu9tkw0vZ"
      },
      "source": [
        "\n",
        "train_transforms =  transforms.Compose([\n",
        "        transforms.Resize((224, 224)),\n",
        "        transforms.RandomHorizontalFlip(),\n",
        "        transforms.ToTensor(),\n",
        "])\n",
        "\n",
        "val_transforms = transforms.Compose([\n",
        "        transforms.Resize((224, 224)),\n",
        "        transforms.RandomHorizontalFlip(),\n",
        "        transforms.ToTensor(),\n",
        "])\n"
      ],
      "execution_count": 8,
      "outputs": []
    },
    {
      "cell_type": "code",
      "metadata": {
        "id": "Zi9_R-2pxnm7"
      },
      "source": [
        "training_data = ImageFolder(\"/tmp/cats-v-dogs/training\",transform=train_transforms)\n",
        "validation_data = ImageFolder(\"/tmp/cats-v-dogs/testing\",transform=val_transforms)"
      ],
      "execution_count": 9,
      "outputs": []
    },
    {
      "cell_type": "code",
      "metadata": {
        "colab": {
          "base_uri": "https://localhost:8080/"
        },
        "id": "eGnQ8zUox9rY",
        "outputId": "d6424e9e-0879-4f2f-8c7e-65d8300a8c71"
      },
      "source": [
        "training_data.classes,validation_data.classes"
      ],
      "execution_count": 10,
      "outputs": [
        {
          "output_type": "execute_result",
          "data": {
            "text/plain": [
              "(['cats', 'dogs'], ['cats', 'dogs'])"
            ]
          },
          "metadata": {},
          "execution_count": 10
        }
      ]
    },
    {
      "cell_type": "code",
      "metadata": {
        "colab": {
          "base_uri": "https://localhost:8080/"
        },
        "id": "DrV9V_0zx_Gh",
        "outputId": "b9a5f248-412d-44e9-c4ff-e21fd8c5a970"
      },
      "source": [
        "training_data.class_to_idx,validation_data.class_to_idx"
      ],
      "execution_count": 11,
      "outputs": [
        {
          "output_type": "execute_result",
          "data": {
            "text/plain": [
              "({'cats': 0, 'dogs': 1}, {'cats': 0, 'dogs': 1})"
            ]
          },
          "metadata": {},
          "execution_count": 11
        }
      ]
    },
    {
      "cell_type": "code",
      "metadata": {
        "id": "CBf-Fs7rzxiY"
      },
      "source": [
        "training_data_loader = DataLoader(training_data,batch_size=100,shuffle=True)\n",
        "validation_data_loader = DataLoader(validation_data,batch_size=100,shuffle=True)"
      ],
      "execution_count": 12,
      "outputs": []
    },
    {
      "cell_type": "code",
      "metadata": {
        "id": "V1NvVEwkyj04"
      },
      "source": [
        "inputs_batch, labels_batch = next(iter(training_data_loader))\n",
        "grid = torchvision.utils.make_grid(inputs_batch, nrow=40, pad_value=1)\n",
        "torchvision.utils.save_image(grid, 'inputs_batch_preview.png')"
      ],
      "execution_count": 13,
      "outputs": []
    },
    {
      "cell_type": "code",
      "metadata": {
        "id": "eZV7z1M00_Ln"
      },
      "source": [
        "config = [\n",
        "     # input_channels:int,no.of filters:int,filter_size:int,stride:int,padding:int\n",
        "     (3,16,3,2,0),\n",
        "     # MP - max pooling:string,filter_size:int,stride:int,padding:int\n",
        "     (\"MP\",2,2,0),\n",
        "     (16,32,3,2,0),\n",
        "     (\"MP\",2,2,0),\n",
        "     (32,64,3,2,0),\n",
        "     (\"MP\",2,2,0)\n",
        "]"
      ],
      "execution_count": 14,
      "outputs": []
    },
    {
      "cell_type": "code",
      "metadata": {
        "id": "yYtGKhd41G9m"
      },
      "source": [
        "def conv_output_size(img_size,padding,filter_size,stride,n_filters):\n",
        "   size_ = (int((img_size + (2 * padding) - filter_size) / stride)) + 1\n",
        "   return size_,size_,n_filters"
      ],
      "execution_count": 15,
      "outputs": []
    },
    {
      "cell_type": "code",
      "metadata": {
        "id": "8WMQc1n61L8q"
      },
      "source": [
        "\n",
        "def dense_layer_size(configuration,img_size):\n",
        "\n",
        "  _,output_channels = 0,0\n",
        "  layer_count = 0\n",
        "\n",
        "  for config in configuration:\n",
        "    \n",
        "    layer_count += 1\n",
        "\n",
        "    if config[0] == \"MP\":\n",
        "      img_size,_,output_channels = conv_output_size(img_size,config[3],config[1],config[2],output_channels)\n",
        "      print(\"Max Pooling Layer {} output dims :: \".format(layer_count),img_size,_,output_channels)\n",
        "\n",
        "    else: \n",
        "      img_size,_,output_channels = conv_output_size(img_size,config[4],config[2],config[3],config[1])\n",
        "      print(\"Conv Layer {} output dims :: \".format(layer_count),img_size,_,output_channels)\n",
        "  \n",
        "  return img_size,_,output_channels"
      ],
      "execution_count": 16,
      "outputs": []
    },
    {
      "cell_type": "code",
      "metadata": {
        "colab": {
          "base_uri": "https://localhost:8080/"
        },
        "id": "6QcCyHM-1PAS",
        "outputId": "3cdc96ba-a4d2-45be-eb41-fa247ae885e5"
      },
      "source": [
        "width,heigth,channels = dense_layer_size(config,224)"
      ],
      "execution_count": 17,
      "outputs": [
        {
          "output_type": "stream",
          "name": "stdout",
          "text": [
            "Conv Layer 1 output dims ::  111 111 16\n",
            "Max Pooling Layer 2 output dims ::  55 55 16\n",
            "Conv Layer 3 output dims ::  27 27 32\n",
            "Max Pooling Layer 4 output dims ::  13 13 32\n",
            "Conv Layer 5 output dims ::  6 6 64\n",
            "Max Pooling Layer 6 output dims ::  3 3 64\n"
          ]
        }
      ]
    },
    {
      "cell_type": "code",
      "metadata": {
        "colab": {
          "base_uri": "https://localhost:8080/"
        },
        "id": "ijlvWAFM1iCA",
        "outputId": "59120a2b-510f-43ef-f73b-f11775abe5f0"
      },
      "source": [
        "width * heigth * channels"
      ],
      "execution_count": 18,
      "outputs": [
        {
          "output_type": "execute_result",
          "data": {
            "text/plain": [
              "576"
            ]
          },
          "metadata": {},
          "execution_count": 18
        }
      ]
    },
    {
      "cell_type": "code",
      "metadata": {
        "id": "3gJ_jTqtzvqt"
      },
      "source": [
        "class NeuralNetwork(nn.Module):\n",
        "\n",
        "  def __init__(self):\n",
        "    super(NeuralNetwork,self).__init__()\n",
        "\n",
        "    self.layer1 = nn.Sequential(\n",
        "        nn.Conv2d(3,16,3,2,0),\n",
        "        nn.BatchNorm2d(16),\n",
        "        nn.ReLU(),\n",
        "        nn.MaxPool2d(2,2),\n",
        "        nn.Dropout2d(p=0.25)\n",
        "    )\n",
        "\n",
        "    self.layer2 = nn.Sequential(\n",
        "        nn.Conv2d(16,32,3,2,0),\n",
        "        nn.BatchNorm2d(32),\n",
        "        nn.ReLU(),\n",
        "        nn.MaxPool2d(2,2),\n",
        "        nn.Dropout2d(p=0.25)\n",
        "    )\n",
        "\n",
        "    self.layer3 = nn.Sequential(\n",
        "        nn.Conv2d(32,64,3,2,0),\n",
        "        nn.BatchNorm2d(64),\n",
        "        nn.ReLU(),\n",
        "        nn.MaxPool2d(2,2),\n",
        "        nn.Dropout2d(p=0.25)\n",
        "    )\n",
        "\n",
        "    self.FC = nn.Sequential(\n",
        "        nn.Linear(576,512),\n",
        "        nn.ReLU(),\n",
        "        nn.Dropout(p=0.5),\n",
        "\n",
        "        nn.Linear(512,2),\n",
        "    )    \n",
        "\n",
        "  def forward(self,x):\n",
        "    x = self.layer1(x)\n",
        "    x = self.layer2(x)\n",
        "    x = self.layer3(x)\n",
        "\n",
        "    x = x.view(x.size(0),-1)\n",
        "    x = self.FC(x)\n",
        "\n",
        "    return x"
      ],
      "execution_count": 19,
      "outputs": []
    },
    {
      "cell_type": "code",
      "metadata": {
        "colab": {
          "base_uri": "https://localhost:8080/"
        },
        "id": "4sR6hpx-3PSR",
        "outputId": "c27bdbdd-7f04-4b0f-c0a4-461bdebd5537"
      },
      "source": [
        "\n",
        "net = NeuralNetwork()\n",
        "optimizer = torch.optim.Adam(net.parameters(),lr=0.001)\n",
        "criterion = nn.CrossEntropyLoss()\n",
        "\n",
        "net.train()"
      ],
      "execution_count": 20,
      "outputs": [
        {
          "output_type": "execute_result",
          "data": {
            "text/plain": [
              "NeuralNetwork(\n",
              "  (layer1): Sequential(\n",
              "    (0): Conv2d(3, 16, kernel_size=(3, 3), stride=(2, 2))\n",
              "    (1): BatchNorm2d(16, eps=1e-05, momentum=0.1, affine=True, track_running_stats=True)\n",
              "    (2): ReLU()\n",
              "    (3): MaxPool2d(kernel_size=2, stride=2, padding=0, dilation=1, ceil_mode=False)\n",
              "    (4): Dropout2d(p=0.25, inplace=False)\n",
              "  )\n",
              "  (layer2): Sequential(\n",
              "    (0): Conv2d(16, 32, kernel_size=(3, 3), stride=(2, 2))\n",
              "    (1): BatchNorm2d(32, eps=1e-05, momentum=0.1, affine=True, track_running_stats=True)\n",
              "    (2): ReLU()\n",
              "    (3): MaxPool2d(kernel_size=2, stride=2, padding=0, dilation=1, ceil_mode=False)\n",
              "    (4): Dropout2d(p=0.25, inplace=False)\n",
              "  )\n",
              "  (layer3): Sequential(\n",
              "    (0): Conv2d(32, 64, kernel_size=(3, 3), stride=(2, 2))\n",
              "    (1): BatchNorm2d(64, eps=1e-05, momentum=0.1, affine=True, track_running_stats=True)\n",
              "    (2): ReLU()\n",
              "    (3): MaxPool2d(kernel_size=2, stride=2, padding=0, dilation=1, ceil_mode=False)\n",
              "    (4): Dropout2d(p=0.25, inplace=False)\n",
              "  )\n",
              "  (FC): Sequential(\n",
              "    (0): Linear(in_features=576, out_features=512, bias=True)\n",
              "    (1): ReLU()\n",
              "    (2): Dropout(p=0.5, inplace=False)\n",
              "    (3): Linear(in_features=512, out_features=2, bias=True)\n",
              "  )\n",
              ")"
            ]
          },
          "metadata": {},
          "execution_count": 20
        }
      ]
    },
    {
      "cell_type": "code",
      "metadata": {
        "colab": {
          "base_uri": "https://localhost:8080/"
        },
        "id": "lu8w9p7q3y_f",
        "outputId": "828a6b49-02fe-4ab0-ebcb-1bd903cc9868"
      },
      "source": [
        "epochs = 30\n",
        "\n",
        "training_acc = []\n",
        "training_loss = []\n",
        "\n",
        "val_acc = []\n",
        "val_loss = []\n",
        "\n",
        "for epoch in range(epochs):\n",
        "\n",
        "  epoch_acc = 0\n",
        "  epoch_loss = 0\n",
        "\n",
        "  for batch_id,(image,label) in enumerate(training_data_loader):\n",
        "\n",
        "    output = net(image)\n",
        "\n",
        "    loss = criterion(output,label)\n",
        "\n",
        "    optimizer.zero_grad()\n",
        "    loss.backward()\n",
        "    optimizer.step()\n",
        "\n",
        "    acc = (output.argmax(dim=1) == label).float().mean()\n",
        "    epoch_acc += acc.item() / len(training_data_loader) \n",
        "    epoch_loss += loss.item() / len(training_data_loader)\n",
        "\n",
        "  print(f\"Epoch [{epoch + 1}/{epochs}] Training Accuracy :: {epoch_acc:.4f} Training Loss :: {epoch_loss:.4f}\")\n",
        "  \n",
        "  training_acc.append(epoch_acc)\n",
        "  training_loss.append(epoch_loss)\n",
        "\n",
        "  with torch.no_grad():\n",
        "\n",
        "    epoch_val_acc = 0\n",
        "    epoch_val_loss = 0\n",
        "\n",
        "    for batch_id,(image,label) in enumerate(validation_data_loader):\n",
        "\n",
        "      output = net(image)\n",
        "      loss = criterion(output,label)\n",
        "\n",
        "      acc = (output.argmax(dim=1) == label).float().mean()\n",
        "      epoch_val_acc += acc.item() / len(validation_data_loader) \n",
        "      epoch_val_loss += loss.item() / len(validation_data_loader)\n",
        "\n",
        "    print(f\"Epoch [{epoch + 1}/{epochs}] Val Accuracy :: {epoch_val_acc:.4f} Val Loss :: {epoch_val_loss:.4f}\")\n",
        "    val_acc.append(epoch_val_acc)\n",
        "    val_loss.append(epoch_val_loss)\n"
      ],
      "execution_count": 21,
      "outputs": [
        {
          "output_type": "stream",
          "name": "stderr",
          "text": [
            "/usr/local/lib/python3.7/dist-packages/PIL/TiffImagePlugin.py:770: UserWarning: Possibly corrupt EXIF data.  Expecting to read 32 bytes but only got 0. Skipping tag 270\n",
            "  \" Skipping tag %s\" % (size, len(data), tag)\n",
            "/usr/local/lib/python3.7/dist-packages/PIL/TiffImagePlugin.py:770: UserWarning: Possibly corrupt EXIF data.  Expecting to read 5 bytes but only got 0. Skipping tag 271\n",
            "  \" Skipping tag %s\" % (size, len(data), tag)\n",
            "/usr/local/lib/python3.7/dist-packages/PIL/TiffImagePlugin.py:770: UserWarning: Possibly corrupt EXIF data.  Expecting to read 8 bytes but only got 0. Skipping tag 272\n",
            "  \" Skipping tag %s\" % (size, len(data), tag)\n",
            "/usr/local/lib/python3.7/dist-packages/PIL/TiffImagePlugin.py:770: UserWarning: Possibly corrupt EXIF data.  Expecting to read 8 bytes but only got 0. Skipping tag 282\n",
            "  \" Skipping tag %s\" % (size, len(data), tag)\n",
            "/usr/local/lib/python3.7/dist-packages/PIL/TiffImagePlugin.py:770: UserWarning: Possibly corrupt EXIF data.  Expecting to read 8 bytes but only got 0. Skipping tag 283\n",
            "  \" Skipping tag %s\" % (size, len(data), tag)\n",
            "/usr/local/lib/python3.7/dist-packages/PIL/TiffImagePlugin.py:770: UserWarning: Possibly corrupt EXIF data.  Expecting to read 20 bytes but only got 0. Skipping tag 306\n",
            "  \" Skipping tag %s\" % (size, len(data), tag)\n",
            "/usr/local/lib/python3.7/dist-packages/PIL/TiffImagePlugin.py:770: UserWarning: Possibly corrupt EXIF data.  Expecting to read 48 bytes but only got 0. Skipping tag 532\n",
            "  \" Skipping tag %s\" % (size, len(data), tag)\n",
            "/usr/local/lib/python3.7/dist-packages/PIL/TiffImagePlugin.py:788: UserWarning: Corrupt EXIF data.  Expecting to read 2 bytes but only got 0. \n",
            "  warnings.warn(str(msg))\n"
          ]
        },
        {
          "output_type": "stream",
          "name": "stdout",
          "text": [
            "Epoch [1/30] Training Accuracy :: 0.6265 Training Loss :: 0.6418\n",
            "Epoch [1/30] Val Accuracy :: 0.6612 Val Loss :: 0.6162\n",
            "Epoch [2/30] Training Accuracy :: 0.6848 Training Loss :: 0.5878\n",
            "Epoch [2/30] Val Accuracy :: 0.7116 Val Loss :: 0.5635\n",
            "Epoch [3/30] Training Accuracy :: 0.7127 Training Loss :: 0.5550\n",
            "Epoch [3/30] Val Accuracy :: 0.7292 Val Loss :: 0.5499\n",
            "Epoch [4/30] Training Accuracy :: 0.7279 Training Loss :: 0.5363\n",
            "Epoch [4/30] Val Accuracy :: 0.7424 Val Loss :: 0.5266\n",
            "Epoch [5/30] Training Accuracy :: 0.7442 Training Loss :: 0.5155\n",
            "Epoch [5/30] Val Accuracy :: 0.7460 Val Loss :: 0.5127\n",
            "Epoch [6/30] Training Accuracy :: 0.7537 Training Loss :: 0.5046\n",
            "Epoch [6/30] Val Accuracy :: 0.7588 Val Loss :: 0.4937\n",
            "Epoch [7/30] Training Accuracy :: 0.7618 Training Loss :: 0.4896\n",
            "Epoch [7/30] Val Accuracy :: 0.7572 Val Loss :: 0.4928\n",
            "Epoch [8/30] Training Accuracy :: 0.7747 Training Loss :: 0.4760\n",
            "Epoch [8/30] Val Accuracy :: 0.7628 Val Loss :: 0.4980\n",
            "Epoch [9/30] Training Accuracy :: 0.7760 Training Loss :: 0.4700\n",
            "Epoch [9/30] Val Accuracy :: 0.7520 Val Loss :: 0.4894\n",
            "Epoch [10/30] Training Accuracy :: 0.7770 Training Loss :: 0.4629\n",
            "Epoch [10/30] Val Accuracy :: 0.7716 Val Loss :: 0.4750\n",
            "Epoch [11/30] Training Accuracy :: 0.7851 Training Loss :: 0.4573\n",
            "Epoch [11/30] Val Accuracy :: 0.7596 Val Loss :: 0.4823\n",
            "Epoch [12/30] Training Accuracy :: 0.7862 Training Loss :: 0.4564\n",
            "Epoch [12/30] Val Accuracy :: 0.7776 Val Loss :: 0.4713\n",
            "Epoch [13/30] Training Accuracy :: 0.7940 Training Loss :: 0.4432\n",
            "Epoch [13/30] Val Accuracy :: 0.7860 Val Loss :: 0.4632\n",
            "Epoch [14/30] Training Accuracy :: 0.7916 Training Loss :: 0.4432\n",
            "Epoch [14/30] Val Accuracy :: 0.7760 Val Loss :: 0.4687\n",
            "Epoch [15/30] Training Accuracy :: 0.8040 Training Loss :: 0.4275\n",
            "Epoch [15/30] Val Accuracy :: 0.7816 Val Loss :: 0.4547\n",
            "Epoch [16/30] Training Accuracy :: 0.8034 Training Loss :: 0.4271\n",
            "Epoch [16/30] Val Accuracy :: 0.7828 Val Loss :: 0.4602\n",
            "Epoch [17/30] Training Accuracy :: 0.8046 Training Loss :: 0.4242\n",
            "Epoch [17/30] Val Accuracy :: 0.7812 Val Loss :: 0.4720\n",
            "Epoch [18/30] Training Accuracy :: 0.8035 Training Loss :: 0.4253\n",
            "Epoch [18/30] Val Accuracy :: 0.7936 Val Loss :: 0.4545\n",
            "Epoch [19/30] Training Accuracy :: 0.8105 Training Loss :: 0.4137\n",
            "Epoch [19/30] Val Accuracy :: 0.7804 Val Loss :: 0.4574\n",
            "Epoch [20/30] Training Accuracy :: 0.8120 Training Loss :: 0.4116\n",
            "Epoch [20/30] Val Accuracy :: 0.8008 Val Loss :: 0.4383\n",
            "Epoch [21/30] Training Accuracy :: 0.8126 Training Loss :: 0.4092\n",
            "Epoch [21/30] Val Accuracy :: 0.7964 Val Loss :: 0.4287\n",
            "Epoch [22/30] Training Accuracy :: 0.8148 Training Loss :: 0.4040\n",
            "Epoch [22/30] Val Accuracy :: 0.8012 Val Loss :: 0.4449\n",
            "Epoch [23/30] Training Accuracy :: 0.8161 Training Loss :: 0.4048\n",
            "Epoch [23/30] Val Accuracy :: 0.7944 Val Loss :: 0.4419\n",
            "Epoch [24/30] Training Accuracy :: 0.8159 Training Loss :: 0.4010\n",
            "Epoch [24/30] Val Accuracy :: 0.7992 Val Loss :: 0.4310\n",
            "Epoch [25/30] Training Accuracy :: 0.8218 Training Loss :: 0.3951\n",
            "Epoch [25/30] Val Accuracy :: 0.7988 Val Loss :: 0.4344\n",
            "Epoch [26/30] Training Accuracy :: 0.8193 Training Loss :: 0.3919\n",
            "Epoch [26/30] Val Accuracy :: 0.7996 Val Loss :: 0.4393\n",
            "Epoch [27/30] Training Accuracy :: 0.8209 Training Loss :: 0.3958\n",
            "Epoch [27/30] Val Accuracy :: 0.7996 Val Loss :: 0.4368\n",
            "Epoch [28/30] Training Accuracy :: 0.8263 Training Loss :: 0.3899\n",
            "Epoch [28/30] Val Accuracy :: 0.8016 Val Loss :: 0.4217\n",
            "Epoch [29/30] Training Accuracy :: 0.8218 Training Loss :: 0.3912\n",
            "Epoch [29/30] Val Accuracy :: 0.8096 Val Loss :: 0.4237\n",
            "Epoch [30/30] Training Accuracy :: 0.8230 Training Loss :: 0.3852\n",
            "Epoch [30/30] Val Accuracy :: 0.8044 Val Loss :: 0.4284\n"
          ]
        }
      ]
    },
    {
      "cell_type": "code",
      "metadata": {
        "id": "_gL65dej-h4R"
      },
      "source": [
        "torch.save(net.state_dict(),\"cat_vs_dog.pt\")"
      ],
      "execution_count": 22,
      "outputs": []
    },
    {
      "cell_type": "code",
      "metadata": {
        "id": "X8iyI8uo-oAE"
      },
      "source": [
        "import matplotlib.pyplot as plt"
      ],
      "execution_count": 23,
      "outputs": []
    },
    {
      "cell_type": "code",
      "metadata": {
        "colab": {
          "base_uri": "https://localhost:8080/",
          "height": 301
        },
        "id": "Mwwsr3ngjLtT",
        "outputId": "eaa300e8-d6c5-4570-bc26-333075bf5d37"
      },
      "source": [
        "epochs_ = list(range(1,31))\n",
        "\n",
        "plt.plot(epochs_,training_acc,'r',\"training accuracy\")\n",
        "plt.plot(epochs_,val_acc,\"b\",\"validation accuracy\")"
      ],
      "execution_count": 25,
      "outputs": [
        {
          "output_type": "execute_result",
          "data": {
            "text/plain": [
              "[<matplotlib.lines.Line2D at 0x7eff2518e8d0>,\n",
              " <matplotlib.lines.Line2D at 0x7eff2518e310>]"
            ]
          },
          "metadata": {},
          "execution_count": 25
        },
        {
          "output_type": "display_data",
          "data": {
            "text/plain": [
              "<Figure size 432x288 with 1 Axes>"
            ],
            "image/png": "[encoded data removed]"
          },
          "metadata": {
            "needs_background": "light"
          }
        }
      ]
    },
    {
      "cell_type": "code",
      "metadata": {
        "colab": {
          "base_uri": "https://localhost:8080/",
          "height": 301
        },
        "id": "xiRvY08LjlQ1",
        "outputId": "f008c6ee-9b0d-410e-d6a7-578e509b6704"
      },
      "source": [
        "epochs_ = list(range(1,31))\n",
        "\n",
        "plt.plot(epochs_,training_loss,'r',\"training loss\")\n",
        "plt.plot(epochs_,val_loss,\"b\",\"validation loss\")"
      ],
      "execution_count": 26,
      "outputs": [
        {
          "output_type": "execute_result",
          "data": {
            "text/plain": [
              "[<matplotlib.lines.Line2D at 0x7eff25112410>,\n",
              " <matplotlib.lines.Line2D at 0x7eff25112590>]"
            ]
          },
          "metadata": {},
          "execution_count": 26
        },
        {
          "output_type": "display_data",
          "data": {
            "text/plain": [
              "<Figure size 432x288 with 1 Axes>"
            ],
            "image/png": "[encoded data removed]"
          },
          "metadata": {
            "needs_background": "light"
          }
        }
      ]
    },
    {
      "cell_type": "code",
      "metadata": {
        "id": "NEGsCGMjjykP"
      },
      "source": [
        "data_transformation = transforms.Compose([\n",
        "              transforms.Resize((224,224)),\n",
        "              transforms.ToTensor()\n",
        "])"
      ],
      "execution_count": 27,
      "outputs": []
    },
    {
      "cell_type": "code",
      "metadata": {
        "colab": {
          "base_uri": "https://localhost:8080/"
        },
        "id": "fENesElemgqA",
        "outputId": "a391af0d-5449-459d-caea-ab5c38cd7402"
      },
      "source": [
        "net.eval()"
      ],
      "execution_count": 28,
      "outputs": [
        {
          "output_type": "execute_result",
          "data": {
            "text/plain": [
              "NeuralNetwork(\n",
              "  (layer1): Sequential(\n",
              "    (0): Conv2d(3, 16, kernel_size=(3, 3), stride=(2, 2))\n",
              "    (1): BatchNorm2d(16, eps=1e-05, momentum=0.1, affine=True, track_running_stats=True)\n",
              "    (2): ReLU()\n",
              "    (3): MaxPool2d(kernel_size=2, stride=2, padding=0, dilation=1, ceil_mode=False)\n",
              "    (4): Dropout2d(p=0.25, inplace=False)\n",
              "  )\n",
              "  (layer2): Sequential(\n",
              "    (0): Conv2d(16, 32, kernel_size=(3, 3), stride=(2, 2))\n",
              "    (1): BatchNorm2d(32, eps=1e-05, momentum=0.1, affine=True, track_running_stats=True)\n",
              "    (2): ReLU()\n",
              "    (3): MaxPool2d(kernel_size=2, stride=2, padding=0, dilation=1, ceil_mode=False)\n",
              "    (4): Dropout2d(p=0.25, inplace=False)\n",
              "  )\n",
              "  (layer3): Sequential(\n",
              "    (0): Conv2d(32, 64, kernel_size=(3, 3), stride=(2, 2))\n",
              "    (1): BatchNorm2d(64, eps=1e-05, momentum=0.1, affine=True, track_running_stats=True)\n",
              "    (2): ReLU()\n",
              "    (3): MaxPool2d(kernel_size=2, stride=2, padding=0, dilation=1, ceil_mode=False)\n",
              "    (4): Dropout2d(p=0.25, inplace=False)\n",
              "  )\n",
              "  (FC): Sequential(\n",
              "    (0): Linear(in_features=576, out_features=512, bias=True)\n",
              "    (1): ReLU()\n",
              "    (2): Dropout(p=0.5, inplace=False)\n",
              "    (3): Linear(in_features=512, out_features=2, bias=True)\n",
              "  )\n",
              ")"
            ]
          },
          "metadata": {},
          "execution_count": 28
        }
      ]
    },
    {
      "cell_type": "code",
      "metadata": {
        "colab": {
          "base_uri": "https://localhost:8080/"
        },
        "id": "PfJWNDowkGiK",
        "outputId": "5be5b009-e94f-4b5b-cd83-c1a43460d14a"
      },
      "source": [
        "image_path = \"/content/sacat.jpg\" \n",
        "\n",
        "image = Image.open(image_path)\n",
        "image = data_transformation(image)\n",
        "\n",
        "\n",
        "predictions = net(image[None,...])\n",
        "print(predictions.argmax(dim=1))"
      ],
      "execution_count": 29,
      "outputs": [
        {
          "output_type": "stream",
          "name": "stdout",
          "text": [
            "tensor([0])\n"
          ]
        }
      ]
    },
    {
      "cell_type": "code",
      "source": [
        ""
      ],
      "metadata": {
        "id": "wimLW-a_ciYa"
      },
      "execution_count": null,
      "outputs": []
    }
  ]
}